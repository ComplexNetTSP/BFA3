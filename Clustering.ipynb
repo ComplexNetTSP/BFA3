{
 "cells": [
  {
   "cell_type": "code",
   "execution_count": 2,
   "metadata": {
    "collapsed": true
   },
   "outputs": [],
   "source": [
    "import numpy as np\n",
    "import pandas as pd\n",
    "from scipy import stats\n",
    "import scipy.cluster.hierarchy as hac\n",
    "import matplotlib.pyplot as plt\n",
    "\n",
    "import quandl\n",
    "quandl.ApiConfig.api_key = \"y-zCjPnDPkRm_5tTzGRY\"\n",
    "\n",
    "%matplotlib inline"
   ]
  },
  {
   "cell_type": "code",
   "execution_count": 169,
   "metadata": {
    "collapsed": true
   },
   "outputs": [],
   "source": [
    "ticker_list = [\n",
    "    'EURONEXT/EDEN',\n",
    "    'EURONEXT/AC',\n",
    "    'EURONEXT/AI',\n",
    "    'EURONEXT/AIR',\n",
    "    'EURONEXT/MT', \n",
    "    'EURONEXT/ATO',\n",
    "    'EURONEXT/CS',\n",
    "    'EURONEXT/BNP',\n",
    "    'EURONEXT/EN',\n",
    "    'EURONEXT/CAP',\n",
    "    'EURONEXT/CA',\n",
    "    'EURONEXT/ACA',\n",
    "]"
   ]
  },
  {
   "cell_type": "code",
   "execution_count": 170,
   "metadata": {},
   "outputs": [],
   "source": [
    "#data = quandl.get('EURONEXT/AC', start_date=\"2017-01-01\", column_index = 4)\n"
   ]
  },
  {
   "cell_type": "code",
   "execution_count": 171,
   "metadata": {},
   "outputs": [
    {
     "name": "stdout",
     "output_type": "stream",
     "text": [
      "EURONEXT/EDEN\n",
      "EURONEXT/AC\n",
      "EURONEXT/AI\n",
      "EURONEXT/AIR\n",
      "EURONEXT/MT\n",
      "EURONEXT/ATO\n",
      "EURONEXT/CS\n",
      "EURONEXT/BNP\n",
      "EURONEXT/EN\n",
      "EURONEXT/CAP\n",
      "EURONEXT/CA\n",
      "EURONEXT/ACA\n"
     ]
    }
   ],
   "source": [
    "df = pd.DataFrame(columns=['ticker', 'Last'])\n",
    "for t in ticker_list:\n",
    "    print(t)\n",
    "    data = quandl.get(t, start_date='2017-01-01', column_index =4)\n",
    "    data[\"ticker\"] = t\n",
    "    if len(data) == 0:\n",
    "        print(\"Ticker\", t, \"is not avaialable\")\n",
    "    df = df.append(data)"
   ]
  },
  {
   "cell_type": "code",
   "execution_count": 172,
   "metadata": {},
   "outputs": [
    {
     "data": {
      "text/html": [
       "<div>\n",
       "<style>\n",
       "    .dataframe thead tr:only-child th {\n",
       "        text-align: right;\n",
       "    }\n",
       "\n",
       "    .dataframe thead th {\n",
       "        text-align: left;\n",
       "    }\n",
       "\n",
       "    .dataframe tbody tr th {\n",
       "        vertical-align: top;\n",
       "    }\n",
       "</style>\n",
       "<table border=\"1\" class=\"dataframe\">\n",
       "  <thead>\n",
       "    <tr style=\"text-align: right;\">\n",
       "      <th></th>\n",
       "      <th>date</th>\n",
       "      <th>close</th>\n",
       "      <th>ticker</th>\n",
       "    </tr>\n",
       "  </thead>\n",
       "  <tbody>\n",
       "    <tr>\n",
       "      <th>0</th>\n",
       "      <td>2017-01-02</td>\n",
       "      <td>19.045</td>\n",
       "      <td>EURONEXT/EDEN</td>\n",
       "    </tr>\n",
       "    <tr>\n",
       "      <th>1</th>\n",
       "      <td>2017-01-03</td>\n",
       "      <td>19.710</td>\n",
       "      <td>EURONEXT/EDEN</td>\n",
       "    </tr>\n",
       "    <tr>\n",
       "      <th>2</th>\n",
       "      <td>2017-01-04</td>\n",
       "      <td>19.345</td>\n",
       "      <td>EURONEXT/EDEN</td>\n",
       "    </tr>\n",
       "    <tr>\n",
       "      <th>3</th>\n",
       "      <td>2017-01-05</td>\n",
       "      <td>19.490</td>\n",
       "      <td>EURONEXT/EDEN</td>\n",
       "    </tr>\n",
       "    <tr>\n",
       "      <th>4</th>\n",
       "      <td>2017-01-06</td>\n",
       "      <td>19.480</td>\n",
       "      <td>EURONEXT/EDEN</td>\n",
       "    </tr>\n",
       "  </tbody>\n",
       "</table>\n",
       "</div>"
      ],
      "text/plain": [
       "        date   close         ticker\n",
       "0 2017-01-02  19.045  EURONEXT/EDEN\n",
       "1 2017-01-03  19.710  EURONEXT/EDEN\n",
       "2 2017-01-04  19.345  EURONEXT/EDEN\n",
       "3 2017-01-05  19.490  EURONEXT/EDEN\n",
       "4 2017-01-06  19.480  EURONEXT/EDEN"
      ]
     },
     "execution_count": 172,
     "metadata": {},
     "output_type": "execute_result"
    }
   ],
   "source": [
    "df.reset_index(inplace=True)\n",
    "df.columns = [\"date\", \"close\", \"ticker\"]\n",
    "df.head()"
   ]
  },
  {
   "cell_type": "code",
   "execution_count": 173,
   "metadata": {},
   "outputs": [
    {
     "data": {
      "text/html": [
       "<div>\n",
       "<style>\n",
       "    .dataframe thead tr:only-child th {\n",
       "        text-align: right;\n",
       "    }\n",
       "\n",
       "    .dataframe thead th {\n",
       "        text-align: left;\n",
       "    }\n",
       "\n",
       "    .dataframe tbody tr th {\n",
       "        vertical-align: top;\n",
       "    }\n",
       "</style>\n",
       "<table border=\"1\" class=\"dataframe\">\n",
       "  <thead>\n",
       "    <tr>\n",
       "      <th></th>\n",
       "      <th colspan=\"12\" halign=\"left\">close</th>\n",
       "    </tr>\n",
       "    <tr>\n",
       "      <th>ticker</th>\n",
       "      <th>EURONEXT/AC</th>\n",
       "      <th>EURONEXT/ACA</th>\n",
       "      <th>EURONEXT/AI</th>\n",
       "      <th>EURONEXT/AIR</th>\n",
       "      <th>EURONEXT/ATO</th>\n",
       "      <th>EURONEXT/BNP</th>\n",
       "      <th>EURONEXT/CA</th>\n",
       "      <th>EURONEXT/CAP</th>\n",
       "      <th>EURONEXT/CS</th>\n",
       "      <th>EURONEXT/EDEN</th>\n",
       "      <th>EURONEXT/EN</th>\n",
       "      <th>EURONEXT/MT</th>\n",
       "    </tr>\n",
       "    <tr>\n",
       "      <th>date</th>\n",
       "      <th></th>\n",
       "      <th></th>\n",
       "      <th></th>\n",
       "      <th></th>\n",
       "      <th></th>\n",
       "      <th></th>\n",
       "      <th></th>\n",
       "      <th></th>\n",
       "      <th></th>\n",
       "      <th></th>\n",
       "      <th></th>\n",
       "      <th></th>\n",
       "    </tr>\n",
       "  </thead>\n",
       "  <tbody>\n",
       "    <tr>\n",
       "      <th>2017-01-02</th>\n",
       "      <td>35.715</td>\n",
       "      <td>11.860</td>\n",
       "      <td>105.40</td>\n",
       "      <td>62.82</td>\n",
       "      <td>101.70</td>\n",
       "      <td>60.35</td>\n",
       "      <td>23.320</td>\n",
       "      <td>80.66</td>\n",
       "      <td>24.140</td>\n",
       "      <td>19.045</td>\n",
       "      <td>34.195</td>\n",
       "      <td>7.033</td>\n",
       "    </tr>\n",
       "    <tr>\n",
       "      <th>2017-01-03</th>\n",
       "      <td>36.585</td>\n",
       "      <td>12.245</td>\n",
       "      <td>105.65</td>\n",
       "      <td>63.50</td>\n",
       "      <td>102.75</td>\n",
       "      <td>61.92</td>\n",
       "      <td>23.485</td>\n",
       "      <td>80.00</td>\n",
       "      <td>24.430</td>\n",
       "      <td>19.710</td>\n",
       "      <td>34.375</td>\n",
       "      <td>7.124</td>\n",
       "    </tr>\n",
       "    <tr>\n",
       "      <th>2017-01-04</th>\n",
       "      <td>37.415</td>\n",
       "      <td>12.300</td>\n",
       "      <td>105.55</td>\n",
       "      <td>63.40</td>\n",
       "      <td>102.00</td>\n",
       "      <td>62.80</td>\n",
       "      <td>23.450</td>\n",
       "      <td>80.20</td>\n",
       "      <td>24.715</td>\n",
       "      <td>19.345</td>\n",
       "      <td>34.155</td>\n",
       "      <td>7.103</td>\n",
       "    </tr>\n",
       "    <tr>\n",
       "      <th>2017-01-05</th>\n",
       "      <td>37.990</td>\n",
       "      <td>12.330</td>\n",
       "      <td>105.60</td>\n",
       "      <td>64.60</td>\n",
       "      <td>102.00</td>\n",
       "      <td>62.22</td>\n",
       "      <td>23.435</td>\n",
       "      <td>80.47</td>\n",
       "      <td>24.705</td>\n",
       "      <td>19.490</td>\n",
       "      <td>33.990</td>\n",
       "      <td>7.345</td>\n",
       "    </tr>\n",
       "    <tr>\n",
       "      <th>2017-01-06</th>\n",
       "      <td>37.885</td>\n",
       "      <td>12.335</td>\n",
       "      <td>106.05</td>\n",
       "      <td>65.14</td>\n",
       "      <td>102.80</td>\n",
       "      <td>62.49</td>\n",
       "      <td>23.325</td>\n",
       "      <td>80.16</td>\n",
       "      <td>25.000</td>\n",
       "      <td>19.480</td>\n",
       "      <td>34.100</td>\n",
       "      <td>7.269</td>\n",
       "    </tr>\n",
       "  </tbody>\n",
       "</table>\n",
       "</div>"
      ],
      "text/plain": [
       "                 close                                                     \\\n",
       "ticker     EURONEXT/AC EURONEXT/ACA EURONEXT/AI EURONEXT/AIR EURONEXT/ATO   \n",
       "date                                                                        \n",
       "2017-01-02      35.715       11.860      105.40        62.82       101.70   \n",
       "2017-01-03      36.585       12.245      105.65        63.50       102.75   \n",
       "2017-01-04      37.415       12.300      105.55        63.40       102.00   \n",
       "2017-01-05      37.990       12.330      105.60        64.60       102.00   \n",
       "2017-01-06      37.885       12.335      106.05        65.14       102.80   \n",
       "\n",
       "                                                                            \\\n",
       "ticker     EURONEXT/BNP EURONEXT/CA EURONEXT/CAP EURONEXT/CS EURONEXT/EDEN   \n",
       "date                                                                         \n",
       "2017-01-02        60.35      23.320        80.66      24.140        19.045   \n",
       "2017-01-03        61.92      23.485        80.00      24.430        19.710   \n",
       "2017-01-04        62.80      23.450        80.20      24.715        19.345   \n",
       "2017-01-05        62.22      23.435        80.47      24.705        19.490   \n",
       "2017-01-06        62.49      23.325        80.16      25.000        19.480   \n",
       "\n",
       "                                    \n",
       "ticker     EURONEXT/EN EURONEXT/MT  \n",
       "date                                \n",
       "2017-01-02      34.195       7.033  \n",
       "2017-01-03      34.375       7.124  \n",
       "2017-01-04      34.155       7.103  \n",
       "2017-01-05      33.990       7.345  \n",
       "2017-01-06      34.100       7.269  "
      ]
     },
     "execution_count": 173,
     "metadata": {},
     "output_type": "execute_result"
    }
   ],
   "source": [
    "# use pandas pivot function to sort adj_close by tickers\n",
    "clean_data = pd.pivot_table(df, index='date', columns=\"ticker\")\n",
    "\n",
    "# check the head of the output\n",
    "clean_data.head()"
   ]
  },
  {
   "cell_type": "code",
   "execution_count": 174,
   "metadata": {
    "collapsed": true
   },
   "outputs": [],
   "source": [
    "for c in clean_data.columns:\n",
    "    clean_data[c] = (clean_data[c] - clean_data[c].mean())/clean_data[c].std()"
   ]
  },
  {
   "cell_type": "code",
   "execution_count": 175,
   "metadata": {},
   "outputs": [],
   "source": [
    "clean_data.head()\n",
    "clean_data.dropna(inplace=True)"
   ]
  },
  {
   "cell_type": "code",
   "execution_count": 176,
   "metadata": {},
   "outputs": [],
   "source": [
    "# Do the clustering\n",
    "Z = hac.linkage(clean_data.values.T, method='single', metric='correlation')"
   ]
  },
  {
   "cell_type": "code",
   "execution_count": 177,
   "metadata": {},
   "outputs": [
    {
     "data": {
      "image/png": "[encoded data removed]",
      "text/plain": [
       "<matplotlib.figure.Figure at 0x11741f8d0>"
      ]
     },
     "metadata": {},
     "output_type": "display_data"
    }
   ],
   "source": [
    "# Plot dendogram\n",
    "plt.figure(figsize=(25, 10))\n",
    "plt.title('Hierarchical Clustering Dendrogram')\n",
    "plt.xlabel('sample index')\n",
    "plt.ylabel('distance')\n",
    "hac.dendrogram(\n",
    "    Z,\n",
    "    leaf_rotation=90.,  # rotates the x axis labels\n",
    "    leaf_font_size=8.,  # font size for the x axis labels\n",
    ")\n",
    "plt.show()"
   ]
  },
  {
   "cell_type": "code",
   "execution_count": null,
   "metadata": {
    "collapsed": true
   },
   "outputs": [],
   "source": []
  }
 ],
 "metadata": {
  "kernelspec": {
   "display_name": "Python 3",
   "language": "python",
   "name": "python3"
  },
  "language_info": {
   "codemirror_mode": {
    "name": "ipython",
    "version": 3
   },
   "file_extension": ".py",
   "mimetype": "text/x-python",
   "name": "python",
   "nbconvert_exporter": "python",
   "pygments_lexer": "ipython3",
   "version": "3.6.2"
  }
 },
 "nbformat": 4,
 "nbformat_minor": 2
}
